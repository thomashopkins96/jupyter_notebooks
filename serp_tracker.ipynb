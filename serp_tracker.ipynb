{
 "cells": [
  {
   "cell_type": "code",
   "execution_count": 2,
   "id": "dbf34c33",
   "metadata": {},
   "outputs": [
    {
     "name": "stdout",
     "output_type": "stream",
     "text": [
      "Requirement already satisfied: schedule in c:\\users\\whopk\\anaconda3\\lib\\site-packages (1.2.1)\n",
      "Requirement already satisfied: requests in c:\\users\\whopk\\anaconda3\\lib\\site-packages (2.28.1)\n",
      "Requirement already satisfied: charset-normalizer<3,>=2 in c:\\users\\whopk\\anaconda3\\lib\\site-packages (from requests) (2.0.4)\n",
      "Requirement already satisfied: idna<4,>=2.5 in c:\\users\\whopk\\anaconda3\\lib\\site-packages (from requests) (3.4)\n",
      "Requirement already satisfied: urllib3<1.27,>=1.21.1 in c:\\users\\whopk\\anaconda3\\lib\\site-packages (from requests) (1.26.14)\n",
      "Requirement already satisfied: certifi>=2017.4.17 in c:\\users\\whopk\\anaconda3\\lib\\site-packages (from requests) (2022.12.7)\n"
     ]
    }
   ],
   "source": [
    "!pip install schedule\n",
    "!pip install requests\n"
   ]
  },
  {
   "cell_type": "code",
   "execution_count": 19,
   "id": "7432b10f",
   "metadata": {},
   "outputs": [
    {
     "ename": "NameError",
     "evalue": "name 'params' is not defined",
     "output_type": "error",
     "traceback": [
      "\u001b[1;31m---------------------------------------------------------------------------\u001b[0m",
      "\u001b[1;31mNameError\u001b[0m                                 Traceback (most recent call last)",
      "Cell \u001b[1;32mIn[19], line 33\u001b[0m\n\u001b[0;32m     29\u001b[0m     serp_request \u001b[38;5;241m=\u001b[39m requests\u001b[38;5;241m.\u001b[39mget(base_url, params\u001b[38;5;241m=\u001b[39mparams, headers \u001b[38;5;241m=\u001b[39m headers)\n\u001b[0;32m     31\u001b[0m     \u001b[38;5;28;01mreturn\u001b[39;00m serp_request\n\u001b[1;32m---> 33\u001b[0m \u001b[43mschedule_serp\u001b[49m\u001b[43m(\u001b[49m\u001b[38;5;124;43m'\u001b[39;49m\u001b[38;5;124;43mseo\u001b[39;49m\u001b[38;5;124;43m'\u001b[39;49m\u001b[43m)\u001b[49m\n",
      "Cell \u001b[1;32mIn[19], line 29\u001b[0m, in \u001b[0;36mschedule_serp\u001b[1;34m(query, schedule, number_of_results, start, site, tbs, filter_param, user_agent_list)\u001b[0m\n\u001b[0;32m     26\u001b[0m user_agents \u001b[38;5;241m=\u001b[39m user_agent_list\u001b[38;5;241m.\u001b[39mcontent\u001b[38;5;241m.\u001b[39mdecode(\u001b[38;5;124m'\u001b[39m\u001b[38;5;124mutf-8\u001b[39m\u001b[38;5;124m'\u001b[39m)\u001b[38;5;241m.\u001b[39msplit(\u001b[38;5;124m'\u001b[39m\u001b[38;5;130;01m\\n\u001b[39;00m\u001b[38;5;124m'\u001b[39m)\n\u001b[0;32m     27\u001b[0m headers \u001b[38;5;241m=\u001b[39m random\u001b[38;5;241m.\u001b[39mchoice(user_agents)\n\u001b[1;32m---> 29\u001b[0m serp_request \u001b[38;5;241m=\u001b[39m requests\u001b[38;5;241m.\u001b[39mget(base_url, params\u001b[38;5;241m=\u001b[39m\u001b[43mparams\u001b[49m, headers \u001b[38;5;241m=\u001b[39m headers)\n\u001b[0;32m     31\u001b[0m \u001b[38;5;28;01mreturn\u001b[39;00m serp_request\n",
      "\u001b[1;31mNameError\u001b[0m: name 'params' is not defined"
     ]
    }
   ],
   "source": [
    "import schedule\n",
    "import requests\n",
    "import random\n",
    "import json\n",
    "\n",
    "def schedule_serp(query: str, \n",
    "                  schedule: dict = None,\n",
    "                  number_of_results: int = 10, \n",
    "                  start: int = 1, \n",
    "                  site: str = None, \n",
    "                  tbs: str = None, \n",
    "                  filter_param: str = None,\n",
    "                  user_agent_list: list = requests.get('https://gist.githubusercontent.com/pzb/b4b6f57144aea7827ae4/raw/cf847b76a142955b1410c8bcef3aabe221a63db1/user-agents.txt')) -> requests.Response:\n",
    "\n",
    "    base_url = \"https://www.google.com/search\"\n",
    "    \n",
    "    payload = {\"q\": query, \"num\": number_of_results, \"start\": start}\n",
    "    \n",
    "    if site:\n",
    "        payload['site'] = site\n",
    "    if tbs:\n",
    "        payload['tbs'] = tbs\n",
    "    if filter_param:\n",
    "        payload['filter_param'] = filter_param\n",
    "        \n",
    "    user_agents = user_agent_list.content.decode('utf-8').split('\\n')\n",
    "    headers = random.choice(user_agents)\n",
    "        \n",
    "    serp_request = requests.get(base_url, params=payload, headers = headers)\n",
    "    \n",
    "    return serp_request"
   ]
  },
  {
   "cell_type": "code",
   "execution_count": null,
   "id": "c25879a3",
   "metadata": {},
   "outputs": [],
   "source": []
  }
 ],
 "metadata": {
  "kernelspec": {
   "display_name": "Python 3 (ipykernel)",
   "language": "python",
   "name": "python3"
  },
  "language_info": {
   "codemirror_mode": {
    "name": "ipython",
    "version": 3
   },
   "file_extension": ".py",
   "mimetype": "text/x-python",
   "name": "python",
   "nbconvert_exporter": "python",
   "pygments_lexer": "ipython3",
   "version": "3.10.9"
  }
 },
 "nbformat": 4,
 "nbformat_minor": 5
}
